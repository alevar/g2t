{
 "cells": [
  {
   "cell_type": "code",
   "execution_count": 33,
   "metadata": {},
   "outputs": [
    {
     "name": "stdout",
     "output_type": "stream",
     "text": [
      "[(0, 49, ['c1']), (50, 99, ['c1', 'c3']), (100, 100, ['c1', 'c2', 'c3']), (101, 150, ['c2', 'c3']), (151, 300, ['c2'])]\n"
     ]
    }
   ],
   "source": [
    "def partition_chains(chains):\n",
    "    def _partition_chains(chain1, chain2):\n",
    "        bounds = []\n",
    "        \n",
    "        # Collect all interval bounds across the two chains\n",
    "        for start, end, label in chain1:\n",
    "            bounds.append((start, 1, label))\n",
    "            bounds.append((end + 1, -1, label))\n",
    "        for start, end, label in chain2:\n",
    "            bounds.append((start, 1, label))\n",
    "            bounds.append((end + 1, -1, label))\n",
    "        \n",
    "        bounds.sort()\n",
    "        \n",
    "        res = []\n",
    "        active_labels = set() # labels currently being processed\n",
    "        last_pos = None\n",
    "        \n",
    "        for pos, change, labels in bounds:\n",
    "            if last_pos is not None and pos != last_pos: # create a new interval\n",
    "                res.append(((last_pos, pos - 1, sorted(active_labels))))\n",
    "            \n",
    "            for label in labels:\n",
    "                if change == 1:\n",
    "                    active_labels.add(label)\n",
    "                elif change == -1:\n",
    "                    active_labels.discard(label)\n",
    "            \n",
    "            last_pos = pos\n",
    "        \n",
    "        return res\n",
    "\n",
    "    if not chains: # no chains left\n",
    "        return []\n",
    "    \n",
    "    res = chains[0]\n",
    "    for chain in chains[1:]: # recursively process all chains\n",
    "        res = _partition_chains(res, chain)\n",
    "\n",
    "    return res\n",
    "\n",
    "# Example usage\n",
    "chains = [\n",
    "    ([[0, 100, [\"c1\"]]]),\n",
    "    ([[100, 300, [\"c2\"]]]),\n",
    "    ([[50, 150, [\"c3\"]]])\n",
    "]\n",
    "\n",
    "final_result = partition_chains(chains)\n",
    "print(final_result)\n"
   ]
  },
  {
   "cell_type": "code",
   "execution_count": null,
   "metadata": {},
   "outputs": [],
   "source": []
  }
 ],
 "metadata": {
  "kernelspec": {
   "display_name": "G2T",
   "language": "python",
   "name": "python3"
  },
  "language_info": {
   "codemirror_mode": {
    "name": "ipython",
    "version": 3
   },
   "file_extension": ".py",
   "mimetype": "text/x-python",
   "name": "python",
   "nbconvert_exporter": "python",
   "pygments_lexer": "ipython3",
   "version": "3.11.11"
  }
 },
 "nbformat": 4,
 "nbformat_minor": 2
}
